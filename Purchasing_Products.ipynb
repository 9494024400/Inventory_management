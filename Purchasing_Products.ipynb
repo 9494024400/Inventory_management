{
  "nbformat": 4,
  "nbformat_minor": 0,
  "metadata": {
    "colab": {
      "name": "Purchasing_Products.ipynb",
      "provenance": [],
      "collapsed_sections": []
    },
    "kernelspec": {
      "name": "python3",
      "display_name": "Python 3"
    },
    "language_info": {
      "name": "python"
    }
  },
  "cells": [
    {
      "cell_type": "code",
      "metadata": {
        "id": "xAB-Y0jsnt1O"
      },
      "source": [
        "import json\n",
        "\n",
        "fd = open(\"inventory.txt\",'r')\n",
        "data = fd.read()\n",
        "fd.close()\n",
        "\n",
        "items = json.loads(data)"
      ],
      "execution_count": 3,
      "outputs": []
    },
    {
      "cell_type": "code",
      "metadata": {
        "colab": {
          "base_uri": "https://localhost:8080/"
        },
        "id": "_qnb4IoHoMEs",
        "outputId": "0de206b9-111f-47cb-99ca-92824e990b62"
      },
      "source": [
        "items"
      ],
      "execution_count": 4,
      "outputs": [
        {
          "output_type": "execute_result",
          "data": {
            "text/plain": [
              "{'2000': {'name': 'Choco Cake', 'prod': 100, 'quant': 34},\n",
              " '2001': {'name': 'Milk Cake', 'prod': 800, 'quant': 100},\n",
              " '2002': {'name': 'Drink', 'prod': 85, 'quant': 100},\n",
              " '2003': {'name': 'Candy', 'prod': 5, 'quant': 1000},\n",
              " '2004': {'name': 'Pen', 'prod': 20, 'quant': 100},\n",
              " '2005': {'name': 'Phone', 'prod': 50000, 'quant': 10},\n",
              " '2006': {'name': 'Mic', 'prod': 1500, 'quant': 0},\n",
              " '2007': {'name': 'Case', 'prod': 599, 'quant': 5},\n",
              " '2008': {'name': 'Keyboard', 'prod': 1999, 'quant': 10},\n",
              " '2009': {'name': 'comb', 'prod': 200, 'quant': 12}}"
            ]
          },
          "metadata": {},
          "execution_count": 4
        }
      ]
    },
    {
      "cell_type": "code",
      "metadata": {
        "colab": {
          "base_uri": "https://localhost:8080/"
        },
        "id": "zxWK_a1CoxmZ",
        "outputId": "741561da-47d6-4532-c520-c232c5645713"
      },
      "source": [
        "y_prod = str(input(\"Enter the product_id:\"))\n",
        "y_quant = int(input(\"Enter the quantity:\"))\n",
        "\n",
        "print(\"product: \", items[y_prod]['name'])\n",
        "print(\"price: \", items[y_prod]['prod'])\n",
        "print(\"billing amount: \", items[y_prod]['prod'] * y_quant)"
      ],
      "execution_count": 8,
      "outputs": [
        {
          "output_type": "stream",
          "name": "stdout",
          "text": [
            "Enter the product_id:2009\n",
            "Enter the quantity:2\n",
            "product:  comb\n",
            "price:  200\n",
            "billing amount:  400\n"
          ]
        }
      ]
    },
    {
      "cell_type": "code",
      "metadata": {
        "id": "KlsHWnDIqf61"
      },
      "source": [
        "js = json.dumps(items)\n",
        "\n",
        "fd = open(\"inventory.txt\",\"w\")\n",
        "fd.write(js)\n",
        "fd.close()"
      ],
      "execution_count": 9,
      "outputs": []
    },
    {
      "cell_type": "code",
      "metadata": {
        "colab": {
          "base_uri": "https://localhost:8080/"
        },
        "id": "1QmYzneMsBdc",
        "outputId": "854313b5-e133-4f89-b4a1-df1b8cca326d"
      },
      "source": [
        "{'prod' : y_prod, \"quant\" : y_quant, \"amount\" : items[y_prod]['prod'] * y_quant}"
      ],
      "execution_count": 10,
      "outputs": [
        {
          "output_type": "execute_result",
          "data": {
            "text/plain": [
              "{'amount': 400, 'prod': '2009', 'quant': 2}"
            ]
          },
          "metadata": {},
          "execution_count": 10
        }
      ]
    },
    {
      "cell_type": "code",
      "metadata": {
        "id": "K80J5u_HsixO"
      },
      "source": [
        "sales = {1: {'prod': y_prod, \"quant\": y_quant, \"amount\": items[y_prod][\"prod\"] * y_quant},\n",
        "         2: {'prod': y_prod, \"quant\": y_quant, \"amount\": items[y_prod][\"prod\"] * y_quant},\n",
        "         3: {'prod': y_prod, \"quant\": y_quant, \"amount\": items[y_prod][\"prod\"] * y_quant}}"
      ],
      "execution_count": 12,
      "outputs": []
    },
    {
      "cell_type": "code",
      "metadata": {
        "id": "4fhNzfytsqXy"
      },
      "source": [
        "sale = json.dumps(sales)"
      ],
      "execution_count": 13,
      "outputs": []
    },
    {
      "cell_type": "code",
      "metadata": {
        "id": "laW1eQ4Ctmgg"
      },
      "source": [
        ""
      ],
      "execution_count": null,
      "outputs": []
    }
  ]
}
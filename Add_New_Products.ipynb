{
  "nbformat": 4,
  "nbformat_minor": 0,
  "metadata": {
    "colab": {
      "name": "Add_New_Products.ipynb",
      "provenance": [],
      "collapsed_sections": []
    },
    "kernelspec": {
      "name": "python3",
      "display_name": "Python 3"
    },
    "language_info": {
      "name": "python"
    }
  },
  "cells": [
    {
      "cell_type": "code",
      "metadata": {
        "id": "gU9FWLuVgTs_"
      },
      "source": [
        "import json\n",
        "fd = open('inventory.txt','r')\n",
        "data = fd.read()\n",
        "fd.close()\n",
        "\n",
        "items = json.loads(data)"
      ],
      "execution_count": 7,
      "outputs": []
    },
    {
      "cell_type": "code",
      "metadata": {
        "colab": {
          "base_uri": "https://localhost:8080/",
          "height": 103
        },
        "id": "ZJJN-xCjhIGb",
        "outputId": "aaa56d12-c0e5-4a78-9005-5e32e4f91ceb"
      },
      "source": [
        "data"
      ],
      "execution_count": 8,
      "outputs": [
        {
          "output_type": "execute_result",
          "data": {
            "application/vnd.google.colaboratory.intrinsic+json": {
              "type": "string"
            },
            "text/plain": [
              "'{\"2000\": {\"name\": \"Choco Cake\", \"quant\": 34, \"prod\": 100}, \"2001\": {\"name\": \"Milk Cake\", \"prod\": 800, \"quant\": 100}, \"2002\": {\"name\": \"Drink\", \"prod\": 85, \"quant\": 100}, \"2003\": {\"name\": \"Candy\", \"prod\": 5, \"quant\": 1000}, \"2004\": {\"name\": \"Pen\", \"prod\": 20, \"quant\": 100}, \"2005\": {\"name\": \"Phone\", \"prod\": 50000, \"quant\": 10}, \"2006\": {\"name\": \"Mic\", \"prod\": 1500, \"quant\": 0}, \"2007\": {\"name\": \"Case\", \"prod\": 599, \"quant\": 5}, \"2008\": {\"name\": \"Keyboard\", \"prod\": 1999, \"quant\": 10},\"2009\": {\"name\": \"comb\", \"prod\": 200, \"quant\": 12}}\\n'"
            ]
          },
          "metadata": {},
          "execution_count": 8
        }
      ]
    },
    {
      "cell_type": "code",
      "metadata": {
        "colab": {
          "base_uri": "https://localhost:8080/"
        },
        "id": "hvhFRZ_ihPkS",
        "outputId": "97c9652c-b2f0-4366-b09c-74cfb5edab0f"
      },
      "source": [
        "prod_id = str(input(\"Enter your product id:\"))\n",
        "name = str(input(\"Enter name:\"))\n",
        "price = int(input(\"Enter price:\"))\n",
        "qt = int(input(\"Enter quantity:\"))\n",
        "\n",
        "items[prod_id] = {'name': name, 'price': price, 'quantity': qt}\n",
        "\n",
        "js = json.dumps(items)\n",
        "\n",
        "fd = open(\"inventory.txt\",\"w\")\n",
        "fd.write(js)\n",
        "fd.close()"
      ],
      "execution_count": 19,
      "outputs": [
        {
          "name": "stdout",
          "output_type": "stream",
          "text": [
            "Enter your product id:2014\n",
            "Enter name:horse\n",
            "Enter price:5000\n",
            "Enter quantity:5\n"
          ]
        }
      ]
    },
    {
      "cell_type": "code",
      "metadata": {
        "colab": {
          "base_uri": "https://localhost:8080/"
        },
        "id": "wURpMUBDlYo-",
        "outputId": "59b49fcf-d2d7-4953-d9ba-e22ef847c575"
      },
      "source": [
        "items"
      ],
      "execution_count": 21,
      "outputs": [
        {
          "output_type": "execute_result",
          "data": {
            "text/plain": [
              "{'2000': {'name': 'Choco Cake', 'prod': 100, 'quant': 34},\n",
              " '2001': {'name': 'Milk Cake', 'prod': 800, 'quant': 100},\n",
              " '2002': {'name': 'Drink', 'prod': 85, 'quant': 100},\n",
              " '2003': {'name': 'Candy', 'prod': 5, 'quant': 1000},\n",
              " '2004': {'name': 'Pen', 'prod': 20, 'quant': 100},\n",
              " '2005': {'name': 'Phone', 'prod': 50000, 'quant': 10},\n",
              " '2006': {'name': 'Mic', 'prod': 1500, 'quant': 0},\n",
              " '2008': {'name': 'Keyboard', 'prod': 1999, 'quant': 10},\n",
              " '2009': {'name': 'comb', 'prod': 200, 'quant': 12},\n",
              " '2010': {'name': 'laptop', 'price': 23456, 'quantity': 5},\n",
              " '2011': {'name': 'marble', 'price': 290, 'quantity': 15},\n",
              " '2012': {'name': 'carrom', 'price': 3000, 'quantity': 20},\n",
              " '2013': {'name': 'cat', 'price': 50, 'quantity': 5},\n",
              " '2014': {'name': 'horse', 'price': 5000, 'quantity': 5}}"
            ]
          },
          "metadata": {},
          "execution_count": 21
        }
      ]
    },
    {
      "cell_type": "code",
      "metadata": {
        "id": "QZI4eRHul0Kk"
      },
      "source": [
        "del items['2007']"
      ],
      "execution_count": 12,
      "outputs": []
    },
    {
      "cell_type": "code",
      "metadata": {
        "colab": {
          "base_uri": "https://localhost:8080/"
        },
        "id": "22FHiLdDmBzL",
        "outputId": "bb6bc9e5-fa59-4ad1-bf8f-7c4ba7b85775"
      },
      "source": [
        "items"
      ],
      "execution_count": 13,
      "outputs": [
        {
          "output_type": "execute_result",
          "data": {
            "text/plain": [
              "{'2000': {'name': 'Choco Cake', 'prod': 100, 'quant': 34},\n",
              " '2001': {'name': 'Milk Cake', 'prod': 800, 'quant': 100},\n",
              " '2002': {'name': 'Drink', 'prod': 85, 'quant': 100},\n",
              " '2003': {'name': 'Candy', 'prod': 5, 'quant': 1000},\n",
              " '2004': {'name': 'Pen', 'prod': 20, 'quant': 100},\n",
              " '2005': {'name': 'Phone', 'prod': 50000, 'quant': 10},\n",
              " '2006': {'name': 'Mic', 'prod': 1500, 'quant': 0},\n",
              " '2008': {'name': 'Keyboard', 'prod': 1999, 'quant': 10},\n",
              " '2009': {'name': 'comb', 'prod': 200, 'quant': 12},\n",
              " '2010': {'name': 'laptop', 'price': 23456, 'quantity': 5}}"
            ]
          },
          "metadata": {},
          "execution_count": 13
        }
      ]
    },
    {
      "cell_type": "code",
      "metadata": {
        "id": "A027cRCamRiA"
      },
      "source": [
        ""
      ],
      "execution_count": null,
      "outputs": []
    }
  ]
}